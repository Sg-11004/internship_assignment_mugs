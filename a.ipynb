{
 "cells": [
  {
   "cell_type": "code",
   "execution_count": 34,
   "metadata": {},
   "outputs": [],
   "source": [
    "#required packages\n",
    "import json\n",
    "import csv"
   ]
  },
  {
   "cell_type": "code",
   "execution_count": 35,
   "metadata": {},
   "outputs": [],
   "source": [
    "#read and parse json files\n",
    "def read_json(filename):\n",
    "    with open(filename, 'r') as f:\n",
    "        return [json.loads(line) for line in f]\n",
    "#assigning variables for read json files\n",
    "patients = read_json('Patient.ndjson')\n",
    "conditions = read_json('Condition.ndjson')\n",
    "encounters_normal = read_json('Encounter.ndjson')\n",
    "encounters_icu = read_json('EncounterICU.ndjson')"
   ]
  },
  {
   "cell_type": "code",
   "execution_count": 36,
   "metadata": {},
   "outputs": [],
   "source": [
    "#creating a dictionary to store conditions for each patient\n",
    "patient_conditions = {}#condition dictionary\n",
    "for patient in patients:\n",
    "    patient_conditions[patient['id']] = []\n",
    "# populate patient_conditions dictionary with condition information\n",
    "for condition in conditions:\n",
    "    patient_id = condition['subject']['reference'].split('/')[-1]  # extract patient id from reference\n",
    "    patient_conditions[patient_id].append(condition)"
   ]
  },
  {
   "cell_type": "code",
   "execution_count": 37,
   "metadata": {},
   "outputs": [],
   "source": [
    "#time retrieval\n",
    "def get_start_time(encounter_id):\n",
    "    for encounter in encounters_combined:\n",
    "        if encounter['id'] == encounter_id:\n",
    "            if 'period' in encounter and 'start' in encounter['period']:\n",
    "                return convert_to_unix_time(encounter['period']['start'])\n",
    "    return None\n",
    "# function to convert datetime to Unix format\n",
    "def convert_to_unix_time(datetime_str):\n",
    "    dt = datetime.fromisoformat(datetime_str)\n",
    "    return int(dt.timestamp())"
   ]
  },
  {
   "cell_type": "code",
   "execution_count": 38,
   "metadata": {},
   "outputs": [],
   "source": [
    "for patient_id, patient_condition_list in patient_conditions.items():\n",
    "    for condition in patient_condition_list:\n",
    "        encounter_id = condition['encounter']['reference'].split('/')[-1]\n",
    "        start_time = get_start_time(encounter_id)\n",
    "        condition['estimated_time'] = start_time"
   ]
  },
  {
   "cell_type": "code",
   "execution_count": 39,
   "metadata": {},
   "outputs": [
    {
     "name": "stdout",
     "output_type": "stream",
     "text": [
      "the required csv data file has been generated\n"
     ]
    }
   ],
   "source": [
    "#creating the dataset in csv\n",
    "with open('data_output.csv', 'w', newline='') as csvfile:\n",
    "    fieldnames = ['pid', 'time', 'code', 'description']\n",
    "    writer = csv.DictWriter(csvfile, fieldnames=fieldnames)\n",
    "    writer.writeheader()\n",
    "    for patient_id, patient_condition_list in patient_conditions.items():\n",
    "        for condition in patient_condition_list:\n",
    "            writer.writerow({\n",
    "                'pid': patient_id,\n",
    "                'time': condition.get('estimated_time', ''),\n",
    "                'code': condition['code']['coding'][0]['code'],\n",
    "                'description': condition['code']['coding'][0]['display']\n",
    "            })\n",
    "print(\"the required csv data file has been generated\")"
   ]
  }
 ],
 "metadata": {
  "language_info": {
   "name": "python"
  }
 },
 "nbformat": 4,
 "nbformat_minor": 2
}
